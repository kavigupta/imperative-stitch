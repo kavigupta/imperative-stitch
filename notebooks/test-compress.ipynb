{
 "cells": [
  {
   "cell_type": "code",
   "execution_count": 1,
   "id": "5d961cab",
   "metadata": {},
   "outputs": [],
   "source": [
    "import os\n",
    "\n",
    "os.chdir(\"..\")"
   ]
  },
  {
   "cell_type": "code",
   "execution_count": 2,
   "id": "587a904b",
   "metadata": {},
   "outputs": [],
   "source": [
    "%load_ext autoreload\n",
    "%autoreload 2"
   ]
  },
  {
   "cell_type": "code",
   "execution_count": 3,
   "id": "ba19933c",
   "metadata": {},
   "outputs": [],
   "source": [
    "import tqdm.auto as tqdm\n",
    "\n",
    "from datasets import load_dataset\n",
    "\n",
    "from imperative_stitch.to_s import (\n",
    "    pair_to_s_exp,\n",
    "    python_to_s_exp,\n",
    "    s_exp_to_python,\n",
    "    s_exp_parse,\n",
    ")\n",
    "from imperative_stitch.compress.julia_stitch import run_julia_stitch\n",
    "\n",
    "from s_expression_parser import nil"
   ]
  },
  {
   "cell_type": "code",
   "execution_count": 4,
   "id": "b3f2341f",
   "metadata": {},
   "outputs": [],
   "source": [
    "STITCH_JL_DIR = \"../Stitch.jl\""
   ]
  },
  {
   "cell_type": "code",
   "execution_count": 5,
   "id": "6b79f125",
   "metadata": {},
   "outputs": [],
   "source": [
    "tests = [\"(+ x 2)\", \"(+ x 3)\"]"
   ]
  },
  {
   "cell_type": "code",
   "execution_count": 6,
   "id": "dc8758c2",
   "metadata": {},
   "outputs": [
    {
     "name": "stderr",
     "output_type": "stream",
     "text": [
      "Found cached dataset parquet (/home/kavi/.cache/huggingface/datasets/deepmind___parquet/deepmind--code_contests-c83aff5e5b92def4/0.0.0/2a3b91fbd88a2c90d1dbbb32b460cf621d31bd5b05b934492fdef7d8d6f236ec)\n"
     ]
    }
   ],
   "source": [
    "dset = load_dataset(\"deepmind/code_contests\", split=\"train\")"
   ]
  },
  {
   "cell_type": "code",
   "execution_count": 7,
   "id": "0f5b8824",
   "metadata": {},
   "outputs": [],
   "source": [
    "sets = []\n",
    "for datum in dset:\n",
    "    py3s = [\n",
    "        sol\n",
    "        for sol, lang in zip(\n",
    "            datum[\"solutions\"][\"solution\"], datum[\"solutions\"][\"language\"]\n",
    "        )\n",
    "        if lang == 3\n",
    "    ]\n",
    "    if len(py3s) > 3:\n",
    "        sets.append(py3s)\n",
    "    if len(sets) > 5:\n",
    "        break"
   ]
  },
  {
   "cell_type": "code",
   "execution_count": 8,
   "id": "4af9b48b",
   "metadata": {},
   "outputs": [
    {
     "name": "stdout",
     "output_type": "stream",
     "text": [
      "**********          0          **********\n",
      "n=int(input())\n",
      "s=input()\n",
      "a=s.count('8')\n",
      "b=n//11\n",
      "print(min(a,b))\n",
      "\n",
      "\n",
      "**********          1          **********\n",
      "n=int(input())\n",
      "s=input()\n",
      "c=s.count('8')\n",
      "x=n//11\n",
      "if c>=x:\n",
      "    print(n//11)\n",
      "elif c < x:\n",
      "    print(c)\n",
      "else:\n",
      "    print(0)\n"
     ]
    }
   ],
   "source": [
    "codes = sets[0][7:1+8]\n",
    "\n",
    "for i, x in enumerate(codes):\n",
    "    print(\"*\" * 10 + \" \" * 10 + str(i) + \" \" * 10 + \"*\" * 10)\n",
    "    print(x)"
   ]
  },
  {
   "cell_type": "code",
   "execution_count": 9,
   "id": "384919d0",
   "metadata": {},
   "outputs": [],
   "source": [
    "x = \"\"\"def min_iterations_to_sort(n, a):\n",
    "    is_sorted = False\n",
    "    iterations = 0\n",
    "\n",
    "    while not is_sorted:\n",
    "        is_sorted = True\n",
    "        iterations += 1\n",
    "\n",
    "        if iterations % 2 == 1:\n",
    "            for i in range(0, n - 1, 2):\n",
    "                if a[i] > a[i + 1]:\n",
    "                    a[i], a[i + 1] = a[i + 1], a[i]\n",
    "                    is_sorted = False\n",
    "        else:\n",
    "            for i in range(1, n - 1, 2):\n",
    "                if a[i] > a[i + 1]:\n",
    "                    a[i], a[i + 1] = a[i + 1], a[i]\n",
    "                    is_sorted = False\n",
    "\n",
    "    return iterations\"\"\"\n",
    "y = \"\"\"def min_iterations_to_sort(n, a):\n",
    "    sorted_a = sorted(a)\n",
    "    odd_swaps = 0\n",
    "    even_swaps = 0\n",
    "    \n",
    "    for i in range(n):\n",
    "        if i % 2 == 0:\n",
    "            for j in range(0, n - 1, 2):\n",
    "                if a[j] > a[j + 1]:\n",
    "                    a[j], a[j + 1] = a[j + 1], a[j]\n",
    "                    odd_swaps += 1\n",
    "        else:\n",
    "            for j in range(1, n - 1, 2):\n",
    "                if a[j] > a[j + 1]:\n",
    "                    a[j], a[j + 1] = a[j + 1], a[j]\n",
    "                    even_swaps += 1\n",
    "    \n",
    "    if a == sorted_a:\n",
    "        return max(odd_swaps, even_swaps)\n",
    "    else:\n",
    "        return -1\"\"\""
   ]
  },
  {
   "cell_type": "code",
   "execution_count": 10,
   "id": "4cc7457d",
   "metadata": {},
   "outputs": [],
   "source": [
    "tests = [python_to_s_exp(code) for code in codes]\n",
    "tests = [python_to_s_exp(code) for code in [\"x = 2\\nx=3\\nx=4\", \"y=2\\ny=3\\ny=4\"]]\n",
    "tests = [python_to_s_exp(code) for code in [x, y]]"
   ]
  },
  {
   "cell_type": "code",
   "execution_count": 11,
   "id": "5803c9ef-01e0-4746-a669-2bf3a67f82bd",
   "metadata": {},
   "outputs": [
    {
     "name": "stdout",
     "output_type": "stream",
     "text": [
      "Run the following command to debug:\n",
      "julia --project=../Stitch.jl/ ../Stitch.jl/src/cli.jl --iterations=1 --max-arity=2 --dfa=/home/kavi/mit/pystitch/data/dfa.json < ../Stitch.jl/temp.txt\n",
      "===Iteration 1===\n",
      "Best abstraction: (Assign (list (Tuple (list (Subscript (Name %2 Load) (Name %1 Load) Store) (Subscript (Name %2 Load) (BinOp (Name %1 Load) Add (Constant i1 None)) Store)) Store)) (Tuple (list (Subscript (Name %2 Load) (BinOp (Name %1 Load) Add (Constant i1 None)) Load) (Subscript (Name %2 Load) (Name %1 Load) Load)) Load) None) with utility 141.0 compressed by 1.25x\n",
      "Stitch.Stats(\n",
      "    expansions=294\n",
      "    completed=11\n",
      "    comparable_worklist_steps=250\n",
      "    )\n",
      "Total compression: 1.374269x\n",
      "~~~~~~~~~~~~~~~~~~~~~~~~~~~~~~~\n",
      "[{\"body\":\"(Assign (list (Tuple (list (Subscript (Name %2 Load) (Name %1 Load) Store) (Subscript (Name %2 Load) (BinOp (Name %1 Load) Add (Constant i1 None)) Store)) Store)) (Tuple (list (Subscript (Name %2 Load) (BinOp (Name %1 Load) Add (Constant i1 None)) Load) (Subscript (Name %2 Load) (Name %1 Load) Load)) Load) None)\",\"sym_arity\":2,\"arity\":0}]\n",
      "~~~~~~~~~~~~~~~~~~~~~~~~~~~~~~~\n",
      "[\"(Module (semi (FunctionDef &min_iterations_to_sort:0 (arguments nil (list (arg &n:1 None None) (arg &a:1 None None)) None nil nil None nil) (semi (Assign (list (Name &is_sorted:1 Store)) (Constant False None) None) (semi (Assign (list (Name &iterations:1 Store)) (Constant i0 None) None) (semi (While (UnaryOp Not (Name &is_sorted:1 Load)) (semi (Assign (list (Name &is_sorted:1 Store)) (Constant True None) None) (semi (AugAssign (Name &iterations:1 Store) Add (Constant i1 None)) (semi (If (Compare (BinOp (Name &iterations:1 Load) Mod (Constant i2 None)) (list Eq) (list (Constant i1 None))) (semi (For (Name &i:1 Store) (Call (Name &range:0 Load) (list (Constant i0 None) (BinOp (Name &n:1 Load) Sub (Constant i1 None)) (Constant i2 None)) nil) (semi (If (Compare (Subscript (Name &a:1 Load) (Name &i:1 Load) Load) (list Gt) (list (Subscript (Name &a:1 Load) (BinOp (Name &i:1 Load) Add (Constant i1 None)) Load))) (semi (fn_1 &i:1 &a:1) (semi (Assign (list (Name &is_sorted:1 Store)) (Constant False None) None) nil)) nil) nil) nil None) nil) (semi (For (Name &i:1 Store) (Call (Name &range:0 Load) (list (Constant i1 None) (BinOp (Name &n:1 Load) Sub (Constant i1 None)) (Constant i2 None)) nil) (semi (If (Compare (Subscript (Name &a:1 Load) (Name &i:1 Load) Load) (list Gt) (list (Subscript (Name &a:1 Load) (BinOp (Name &i:1 Load) Add (Constant i1 None)) Load))) (semi (fn_1 &i:1 &a:1) (semi (Assign (list (Name &is_sorted:1 Store)) (Constant False None) None) nil)) nil) nil) nil None) nil)) nil))) nil) (semi (Return (Name &iterations:1 Load)) nil)))) nil None None) nil) nil)\",\"(Module (semi (FunctionDef &min_iterations_to_sort:0 (arguments nil (list (arg &n:1 None None) (arg &a:1 None None)) None nil nil None nil) (semi (Assign (list (Name &sorted_a:1 Store)) (Call (Name &sorted:0 Load) (list (Name &a:1 Load)) nil) None) (semi (Assign (list (Name &odd_swaps:1 Store)) (Constant i0 None) None) (semi (Assign (list (Name &even_swaps:1 Store)) (Constant i0 None) None) (semi (For (Name &i:1 Store) (Call (Name &range:0 Load) (list (Name &n:1 Load)) nil) (semi (If (Compare (BinOp (Name &i:1 Load) Mod (Constant i2 None)) (list Eq) (list (Constant i0 None))) (semi (For (Name &j:1 Store) (Call (Name &range:0 Load) (list (Constant i0 None) (BinOp (Name &n:1 Load) Sub (Constant i1 None)) (Constant i2 None)) nil) (semi (If (Compare (Subscript (Name &a:1 Load) (Name &j:1 Load) Load) (list Gt) (list (Subscript (Name &a:1 Load) (BinOp (Name &j:1 Load) Add (Constant i1 None)) Load))) (semi (fn_1 &j:1 &a:1) (semi (AugAssign (Name &odd_swaps:1 Store) Add (Constant i1 None)) nil)) nil) nil) nil None) nil) (semi (For (Name &j:1 Store) (Call (Name &range:0 Load) (list (Constant i1 None) (BinOp (Name &n:1 Load) Sub (Constant i1 None)) (Constant i2 None)) nil) (semi (If (Compare (Subscript (Name &a:1 Load) (Name &j:1 Load) Load) (list Gt) (list (Subscript (Name &a:1 Load) (BinOp (Name &j:1 Load) Add (Constant i1 None)) Load))) (semi (fn_1 &j:1 &a:1) (semi (AugAssign (Name &even_swaps:1 Store) Add (Constant i1 None)) nil)) nil) nil) nil None) nil)) nil) nil None) (semi (If (Compare (Name &a:1 Load) (list Eq) (list (Name &sorted_a:1 Load))) (semi (Return (Call (Name &max:0 Load) (list (Name &odd_swaps:1 Load) (Name &even_swaps:1 Load)) nil)) nil) (semi (Return (UnaryOp USub (Constant i1 None))) nil)) nil))))) nil None None) nil) nil)\"]\n",
      "\n"
     ]
    }
   ],
   "source": [
    "_, abstractions, rewritten = run_julia_stitch(\n",
    "    tests,\n",
    "    stitch_jl_dir=\"../Stitch.jl/\",\n",
    "    iters=1,\n",
    "    max_arity=2,\n",
    "    quiet=False,\n",
    ")"
   ]
  },
  {
   "cell_type": "code",
   "execution_count": 12,
   "id": "22d98c07",
   "metadata": {},
   "outputs": [
    {
     "data": {
      "text/plain": [
       "[{'body': '(Assign (list (Tuple (list (Subscript (Name %2 Load) (Name %1 Load) Store) (Subscript (Name %2 Load) (BinOp (Name %1 Load) Add (Constant i1 None)) Store)) Store)) (Tuple (list (Subscript (Name %2 Load) (BinOp (Name %1 Load) Add (Constant i1 None)) Load) (Subscript (Name %2 Load) (Name %1 Load) Load)) Load) None)',\n",
       "  'sym_arity': 2,\n",
       "  'arity': 0}]"
      ]
     },
     "execution_count": 12,
     "metadata": {},
     "output_type": "execute_result"
    }
   ],
   "source": [
    "abstractions"
   ]
  },
  {
   "cell_type": "code",
   "execution_count": 13,
   "id": "5a7cafef",
   "metadata": {},
   "outputs": [
    {
     "name": "stdout",
     "output_type": "stream",
     "text": [
      "(%2[%1], %2[%1 + 1]) = (%2[%1 + 1], %2[%1])\n"
     ]
    }
   ],
   "source": [
    "for abstraction in abstractions:\n",
    "    print(s_exp_to_python(abstraction[\"body\"]))"
   ]
  },
  {
   "cell_type": "code",
   "execution_count": 14,
   "id": "4cd1ce75",
   "metadata": {},
   "outputs": [
    {
     "name": "stdout",
     "output_type": "stream",
     "text": [
      "def min_iterations_to_sort(n, a):\n",
      "    is_sorted = False\n",
      "    iterations = 0\n",
      "    while not is_sorted:\n",
      "        is_sorted = True\n",
      "        iterations += 1\n",
      "        if iterations % 2 == 1:\n",
      "            for i in range(0, n - 1, 2):\n",
      "                if a[i] > a[i + 1]:fn_1(i, a)\n",
      "                    is_sorted = False\n",
      "        else:\n",
      "            for i in range(1, n - 1, 2):\n",
      "                if a[i] > a[i + 1]:fn_1(i, a)\n",
      "                    is_sorted = False\n",
      "    return iterations\n"
     ]
    }
   ],
   "source": [
    "print(s_exp_to_python(rewritten[0]))"
   ]
  },
  {
   "cell_type": "code",
   "execution_count": null,
   "id": "41844588",
   "metadata": {},
   "outputs": [],
   "source": []
  }
 ],
 "metadata": {
  "kernelspec": {
   "display_name": "Python 3 (ipykernel)",
   "language": "python",
   "name": "python3"
  },
  "language_info": {
   "codemirror_mode": {
    "name": "ipython",
    "version": 3
   },
   "file_extension": ".py",
   "mimetype": "text/x-python",
   "name": "python",
   "nbconvert_exporter": "python",
   "pygments_lexer": "ipython3",
   "version": "3.9.7"
  }
 },
 "nbformat": 4,
 "nbformat_minor": 5
}
