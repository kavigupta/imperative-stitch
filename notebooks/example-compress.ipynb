{
 "cells": [
  {
   "cell_type": "markdown",
   "id": "6de52559-a5f1-46f9-86f5-fbb0166b385a",
   "metadata": {},
   "source": [
    "# Setup\n",
    "\n",
    "You should download and install julia (we use version 1.10.4 but it should work with newer versions, I think) and then clone https://github.com/mlb2251/Stitch.jl to ../Stitch.jl.\n",
    "\n",
    "Then install requirements.txt for this repository. You should then be able to run this notebook"
   ]
  },
  {
   "cell_type": "markdown",
   "id": "d63fda30-ca47-45c9-afc7-83507655eee2",
   "metadata": {},
   "source": [
    "# Example\n",
    "\n",
    "The following code is an example of compression."
   ]
  },
  {
   "cell_type": "code",
   "execution_count": 1,
   "id": "5d961cab",
   "metadata": {},
   "outputs": [],
   "source": [
    "import os\n",
    "\n",
    "os.chdir(\"..\")"
   ]
  },
  {
   "cell_type": "code",
   "execution_count": 2,
   "id": "587a904b",
   "metadata": {},
   "outputs": [
    {
     "data": {
      "text/html": [
       "\n",
       "                <script type=\"application/javascript\" id=\"jupyter_black\">\n",
       "                (function() {\n",
       "                    if (window.IPython === undefined) {\n",
       "                        return\n",
       "                    }\n",
       "                    var msg = \"WARNING: it looks like you might have loaded \" +\n",
       "                        \"jupyter_black in a non-lab notebook with \" +\n",
       "                        \"`is_lab=True`. Please double check, and if \" +\n",
       "                        \"loading with `%load_ext` please review the README!\"\n",
       "                    console.log(msg)\n",
       "                    alert(msg)\n",
       "                })()\n",
       "                </script>\n",
       "                "
      ],
      "text/plain": [
       "<IPython.core.display.HTML object>"
      ]
     },
     "metadata": {},
     "output_type": "display_data"
    }
   ],
   "source": [
    "%load_ext autoreload\n",
    "%autoreload 2\n",
    "%load_ext jupyter_black\n"
   ]
  },
  {
   "cell_type": "code",
   "execution_count": 3,
   "id": "ba19933c",
   "metadata": {},
   "outputs": [],
   "source": [
    "import neurosym as ns\n",
    "import tqdm.auto as tqdm\n",
    "\n",
    "from datasets import load_dataset\n",
    "\n",
    "from imperative_stitch.parser import converter\n",
    "from imperative_stitch.compress.julia_stitch import run_julia_stitch\n",
    "from imperative_stitch.compress.abstraction import Abstraction\n",
    "from imperative_stitch.compress.manipulate_abstraction import abstraction_calls_to_stubs\n",
    "\n",
    "from s_expression_parser import nil"
   ]
  },
  {
   "cell_type": "code",
   "execution_count": 4,
   "id": "a89707b8-f405-4947-836f-1db867597625",
   "metadata": {},
   "outputs": [],
   "source": [
    "file_1 = \"\"\"\n",
    "def f(x):\n",
    "    y = function_1(x ** 2 + x ** x + x * 2 - x + 3, x)\n",
    "    print(y)\n",
    "    z = function_2(x, y ** x + y ** y)\n",
    "    t = function_3(x, z)\n",
    "    return x, y, t\n",
    "\"\"\"\n",
    "\n",
    "file_2 = \"\"\"\n",
    "def g(a, y=2):\n",
    "    b = function_1(a ** 2 + a ** 3 + a * 2 - a + 3, a)\n",
    "    c = function_2(a, b ** a + b ** b)\n",
    "    d = b ** 2 + c ** 3 + a - 2\n",
    "    return x, y, d\n",
    "\"\"\"\n",
    "\n",
    "dataset = [ns.python_to_s_exp(x) for x in (file_1, file_2)]\n",
    "stitch_jl_dir = \"../Stitch.jl\"\n",
    "iters = 10\n",
    "max_arity = 3"
   ]
  },
  {
   "cell_type": "code",
   "execution_count": 5,
   "id": "93b4b87c-48d7-4c92-a15a-2a00b3dbd7e7",
   "metadata": {
    "scrolled": true
   },
   "outputs": [],
   "source": [
    "_, abstrs, rewritten = run_julia_stitch(\n",
    "    dataset,\n",
    "    stitch_jl_dir=stitch_jl_dir,\n",
    "    iters=iters,\n",
    "    max_arity=max_arity,\n",
    "    quiet=True,\n",
    "    root_states=(\"S\", \"seqS\", \"E\"),\n",
    "    metavariable_statements=True,\n",
    "    metavariables_anywhere=False,\n",
    "    minimum_number_matches=2,\n",
    "    application_utility_metavar=-1,\n",
    "    application_utility_symvar=-0.2,\n",
    "    application_utility_fixed=-0.5,\n",
    ")"
   ]
  },
  {
   "cell_type": "code",
   "execution_count": 6,
   "id": "c1ade970-88ee-4e2e-9a58-e7e1946f6910",
   "metadata": {},
   "outputs": [],
   "source": [
    "abstrs = [Abstraction.of(name=f\"fn_{i}\", **x) for i, x in enumerate(abstrs, 1)]\n",
    "abstrs_d = {abstr.name: abstr for abstr in abstrs}"
   ]
  },
  {
   "cell_type": "code",
   "execution_count": 7,
   "id": "2274200f-2b0c-415a-862a-ecb53c13a934",
   "metadata": {},
   "outputs": [],
   "source": [
    "abstraction_code = {\n",
    "    abstr.name: abstraction_calls_to_stubs(\n",
    "        abstr.body_with_variable_names(), abstrs_d\n",
    "    ).to_python()\n",
    "    for abstr in abstrs\n",
    "}\n",
    "rewritten_code = [\n",
    "    abstraction_calls_to_stubs(\n",
    "        converter.s_exp_to_python_ast(ns.parse_s_expression(rewr)), abstrs_d\n",
    "    ).to_python()\n",
    "    for rewr in rewritten\n",
    "]"
   ]
  },
  {
   "cell_type": "markdown",
   "id": "ea38caff-fa5c-4f81-b43b-26f4848b66de",
   "metadata": {},
   "source": [
    "## Abstractions\n",
    "\n",
    "Here only one abstraction was found, it can be seen below as a 2-line piece of code that shares the exact structure except for\n",
    "\n",
    "- the variables (abstracted away by %1 through %3)\n",
    "- the second exponent, which is abstracted away as \"$0\"\n",
    "- the extra print statement, abstracted away by ?0"
   ]
  },
  {
   "cell_type": "code",
   "execution_count": 8,
   "id": "56b14482-b7c0-4dfd-a0b1-46ea7630c2f8",
   "metadata": {},
   "outputs": [
    {
     "name": "stdout",
     "output_type": "stream",
     "text": [
      "ABSTRACTIONS\n",
      "\n",
      "fn_1\n",
      "%2 = function_1(%1 ** 2 + %1 ** #0 + %1 * 2 - %1 + 3, %1)\n",
      "?0\n",
      "%3 = function_2(%1, %2 ** %1 + %2 ** %2)\n"
     ]
    }
   ],
   "source": [
    "print(\"ABSTRACTIONS\")\n",
    "for name in abstraction_code:\n",
    "    print()\n",
    "    print(name)\n",
    "    print(abstraction_code[name])"
   ]
  },
  {
   "cell_type": "markdown",
   "id": "72d436d1-8835-424b-9dfb-b82eca6ce0d3",
   "metadata": {},
   "source": [
    "## Rewritten programs\n",
    "\n",
    "Here we can see the rewritten programs, which have differing structure before and after the abstraction call, as well as different arguments to the abstraction"
   ]
  },
  {
   "cell_type": "code",
   "execution_count": 9,
   "id": "2fb444ee-9196-4b69-afe6-0bcce07ea9ae",
   "metadata": {},
   "outputs": [
    {
     "name": "stdout",
     "output_type": "stream",
     "text": [
      "REWRITTEN\n",
      "********************************************************************************\n",
      "def f(x):\n",
      "    fn_1(__code__('x'), __ref__(x), __ref__(y), __ref__(z), __code__('print(y)'))\n",
      "    t = function_3(x, z)\n",
      "    return (x, y, t)\n",
      "********************************************************************************\n",
      "def g(a, y=2):\n",
      "    fn_1(__code__('3'), __ref__(a), __ref__(b), __ref__(c), __code__(''))\n",
      "    d = b ** 2 + c ** 3 + a - 2\n",
      "    return (x, y, d)\n"
     ]
    }
   ],
   "source": [
    "print(\"REWRITTEN\")\n",
    "for rewr in rewritten_code:\n",
    "    print(\"*\" * 80)\n",
    "    print(rewr)"
   ]
  }
 ],
 "metadata": {
  "kernelspec": {
   "display_name": "Python 3 (ipykernel)",
   "language": "python",
   "name": "python3"
  },
  "language_info": {
   "codemirror_mode": {
    "name": "ipython",
    "version": 3
   },
   "file_extension": ".py",
   "mimetype": "text/x-python",
   "name": "python",
   "nbconvert_exporter": "python",
   "pygments_lexer": "ipython3",
   "version": "3.11.9"
  }
 },
 "nbformat": 4,
 "nbformat_minor": 5
}
