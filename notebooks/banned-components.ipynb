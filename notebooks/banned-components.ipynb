{
 "cells": [
  {
   "cell_type": "code",
   "execution_count": 1,
   "id": "08777696",
   "metadata": {},
   "outputs": [],
   "source": [
    "import os\n",
    "os.chdir(\"..\")"
   ]
  },
  {
   "cell_type": "code",
   "execution_count": 2,
   "id": "0a9e8972",
   "metadata": {},
   "outputs": [],
   "source": [
    "import json"
   ]
  },
  {
   "cell_type": "code",
   "execution_count": 3,
   "id": "587a904b",
   "metadata": {},
   "outputs": [],
   "source": [
    "%load_ext autoreload\n",
    "%autoreload 2"
   ]
  },
  {
   "cell_type": "code",
   "execution_count": 4,
   "id": "f9460c44",
   "metadata": {},
   "outputs": [],
   "source": [
    "from imperative_stitch.statistics.component_bans import all_errors, compute_statistics_each"
   ]
  },
  {
   "cell_type": "code",
   "execution_count": 5,
   "id": "b4ed24e3",
   "metadata": {},
   "outputs": [],
   "source": [
    "import tqdm.auto as tqdm"
   ]
  },
  {
   "cell_type": "code",
   "execution_count": 6,
   "id": "7311bb6b",
   "metadata": {},
   "outputs": [
    {
     "data": {
      "application/vnd.jupyter.widget-view+json": {
       "model_id": "eda73500cce74db38b2b4f7510b49e29",
       "version_major": 2,
       "version_minor": 0
      },
      "text/plain": [
       "  0%|          | 0/1000 [00:00<?, ?it/s]"
      ]
     },
     "metadata": {},
     "output_type": "display_data"
    },
    {
     "data": {
      "text/plain": [
       "(0.936,\n",
       " [('classes', 0.043),\n",
       "  ('global', 0.021),\n",
       "  ('async functions', 0.001),\n",
       "  ('coroutine', 0.001),\n",
       "  ('walrus operator', 0.001)])"
      ]
     },
     "execution_count": 6,
     "metadata": {},
     "output_type": "execute_result"
    }
   ],
   "source": [
    "with open(\"data/small_set.json\") as f:\n",
    "    x = json.load(f)\n",
    "errors_each = [all_errors(code) for code in tqdm.tqdm(x)]\n",
    "compute_statistics_each(errors_each)"
   ]
  },
  {
   "cell_type": "code",
   "execution_count": 7,
   "id": "e4c16db6",
   "metadata": {},
   "outputs": [
    {
     "data": {
      "application/vnd.jupyter.widget-view+json": {
       "model_id": "a9598900bd3a4302b2fe0fd63f114d69",
       "version_major": 2,
       "version_minor": 0
      },
      "text/plain": [
       "  0%|          | 0/9902 [00:00<?, ?it/s]"
      ]
     },
     "metadata": {},
     "output_type": "display_data"
    }
   ],
   "source": [
    "with open(\"data/small_set_runnable_code.json\") as f:\n",
    "    x = json.load(f)\n",
    "    x = sorted({x[\"solution\"] for x in x})\n",
    "errors_each = [all_errors(code) for code in tqdm.tqdm(x)]"
   ]
  },
  {
   "cell_type": "code",
   "execution_count": 8,
   "id": "2752266e",
   "metadata": {},
   "outputs": [
    {
     "data": {
      "text/plain": [
       "(0.9455665522116744,\n",
       " [('classes', 0.05170672591395677),\n",
       "  ('global', 0.0030296909715209048),\n",
       "  ('nonlocal', 0.0005049484952534841),\n",
       "  ('coroutine', 0.00010098969905069682)])"
      ]
     },
     "execution_count": 8,
     "metadata": {},
     "output_type": "execute_result"
    }
   ],
   "source": [
    "compute_statistics_each(errors_each)"
   ]
  }
 ],
 "metadata": {
  "kernelspec": {
   "display_name": "Python 3 (ipykernel)",
   "language": "python",
   "name": "python3"
  },
  "language_info": {
   "codemirror_mode": {
    "name": "ipython",
    "version": 3
   },
   "file_extension": ".py",
   "mimetype": "text/x-python",
   "name": "python",
   "nbconvert_exporter": "python",
   "pygments_lexer": "ipython3",
   "version": "3.9.7"
  }
 },
 "nbformat": 4,
 "nbformat_minor": 5
}
