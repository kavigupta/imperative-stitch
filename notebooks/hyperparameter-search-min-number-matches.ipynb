{
 "cells": [
  {
   "cell_type": "code",
   "execution_count": 1,
   "id": "174c9964-ffd4-4103-8eed-caa6056405c1",
   "metadata": {},
   "outputs": [],
   "source": [
    "import os\n",
    "os.chdir(\"..\")"
   ]
  },
  {
   "cell_type": "code",
   "execution_count": 2,
   "id": "7d1f042d",
   "metadata": {},
   "outputs": [
    {
     "data": {
      "text/html": [
       "\n",
       "                <script type=\"application/javascript\" id=\"jupyter_black\">\n",
       "                (function() {\n",
       "                    if (window.IPython === undefined) {\n",
       "                        return\n",
       "                    }\n",
       "                    var msg = \"WARNING: it looks like you might have loaded \" +\n",
       "                        \"jupyter_black in a non-lab notebook with \" +\n",
       "                        \"`is_lab=True`. Please double check, and if \" +\n",
       "                        \"loading with `%load_ext` please review the README!\"\n",
       "                    console.log(msg)\n",
       "                    alert(msg)\n",
       "                })()\n",
       "                </script>\n",
       "                "
      ],
      "text/plain": [
       "<IPython.core.display.HTML object>"
      ]
     },
     "metadata": {},
     "output_type": "display_data"
    }
   ],
   "source": [
    "%load_ext autoreload\n",
    "%autoreload 2\n",
    "%load_ext jupyter_black"
   ]
  },
  {
   "cell_type": "code",
   "execution_count": 3,
   "id": "ee87d7f6",
   "metadata": {},
   "outputs": [],
   "source": [
    "import json"
   ]
  },
  {
   "cell_type": "code",
   "execution_count": 5,
   "id": "97cea468",
   "metadata": {},
   "outputs": [],
   "source": [
    "import ast\n",
    "\n",
    "import ast_scope\n",
    "import pandas as pd\n",
    "import requests\n",
    "import tqdm.auto as tqdm\n",
    "import neurosym as ns\n",
    "import matplotlib.pyplot as plt\n",
    "\n",
    "from imperative_stitch.compress.julia_stitch import run_julia_stitch\n",
    "from imperative_stitch.compress.abstraction import Abstraction\n",
    "from imperative_stitch.compress.manipulate_abstraction import (\n",
    "    abstraction_calls_to_bodies,\n",
    "    abstraction_calls_to_bodies_recursively,\n",
    "    abstraction_calls_to_stubs,\n",
    "    collect_abstraction_calls,\n",
    "    replace_abstraction_calls,\n",
    ")\n",
    "from imperative_stitch.data.github_repository_downloader import (\n",
    "    single_repo_random_subset_of_size,\n",
    "    one_each,\n",
    "    multiple_repos_random_subset_of_size,\n",
    ")"
   ]
  },
  {
   "cell_type": "code",
   "execution_count": 9,
   "id": "46f06b39-70b5-4d15-9a29-5e17bddb201c",
   "metadata": {},
   "outputs": [],
   "source": [
    "from imperative_stitch.utils.remove_docstrings import remove_docstrings\n",
    "from imperative_stitch.experiments.compression_hyperparameter_search.datasets import (\n",
    "    datasets,\n",
    "    sizes,\n",
    "    datasets_for_size,\n",
    ")\n",
    "from imperative_stitch.experiments.compression_hyperparameter_search.hyperparameters import (\n",
    "    sample_hyperparameters,\n",
    ")\n",
    "from imperative_stitch.experiments.compression_hyperparameter_search.run_stitch import (\n",
    "    run_stitch_with_hyperparameters,\n",
    ")\n",
    "from imperative_stitch.experiments.compression_hyperparameter_search.run_experiment import (\n",
    "    run_experiment_up_to_seed,\n",
    "    vary_min_num_matches,\n",
    ")\n",
    "from imperative_stitch.experiments.compression_hyperparameter_search.analysis import *"
   ]
  },
  {
   "cell_type": "code",
   "execution_count": 7,
   "id": "110a6c44-8fac-4eea-8fd5-2ec796496108",
   "metadata": {},
   "outputs": [],
   "source": [
    "d = datasets()"
   ]
  },
  {
   "cell_type": "code",
   "execution_count": 10,
   "id": "14125965-ad66-4869-bc6d-379ac670b4a3",
   "metadata": {},
   "outputs": [
    {
     "data": {
      "application/vnd.jupyter.widget-view+json": {
       "model_id": "8e34a490e8864c8d8f14e1da34c25f55",
       "version_major": 2,
       "version_minor": 0
      },
      "text/plain": [
       "  0%|          | 0/90 [00:00<?, ?it/s]"
      ]
     },
     "metadata": {},
     "output_type": "display_data"
    },
    {
     "name": "stdout",
     "output_type": "stream",
     "text": [
      "Skipping ('ml_repo', 1000000) with seed 0\n",
      "Skipping ('ml_repo', 1000000) with seed 2\n"
     ]
    }
   ],
   "source": [
    "rs = run_experiment_up_to_seed(*vary_min_num_matches(), skip_missing=True)"
   ]
  },
  {
   "cell_type": "code",
   "execution_count": 35,
   "id": "02fc65ea-dd35-49ce-b968-4fce58e3eb6a",
   "metadata": {
    "scrolled": true
   },
   "outputs": [],
   "source": [
    "results = pd.DataFrame(\n",
    "    {\n",
    "        i: {\n",
    "            **vary_min_num_matches()[1](i),\n",
    "            **{(\"wall_time\", *k): wall_time(v) for k, v in r.items()},\n",
    "            **{(\"compression\", *k): s_exp_compression(v) for k, v in r.items()},\n",
    "        }\n",
    "        for i, r in enumerate(rs)\n",
    "    }\n",
    ").T\n",
    "results_no_infcol = results[\n",
    "    [\n",
    "        x\n",
    "        for x in results\n",
    "        if not isinstance(x, tuple) or np.isfinite(list(results[x])).all()\n",
    "    ]\n",
    "]"
   ]
  },
  {
   "cell_type": "code",
   "execution_count": 61,
   "id": "9be2a275-9f28-4393-ae79-aee4550a9cd2",
   "metadata": {},
   "outputs": [],
   "source": [
    "def geomean(x):\n",
    "    return np.exp(np.log(x).mean())"
   ]
  },
  {
   "cell_type": "code",
   "execution_count": 93,
   "id": "e845a526-ce3e-4ff9-abb5-72308d15b771",
   "metadata": {},
   "outputs": [
    {
     "data": {
      "image/png": "[encoded data removed]",
      "text/plain": [
       "<Figure size 640x480 with 2 Axes>"
      ]
     },
     "metadata": {},
     "output_type": "display_data"
    }
   ],
   "source": [
    "ax_1 = plt.gca()\n",
    "ax_2 = ax_1.twinx()\n",
    "a = ax_1.plot(\n",
    "    results_no_infcol.minimum_number_matches,\n",
    "    geomean(results_no_infcol[[x for x in results_no_infcol if x[0] == \"wall_time\"]].T),\n",
    "    color=\"black\",\n",
    "    label=\"Time\",\n",
    ")\n",
    "b = ax_2.plot(\n",
    "    results_no_infcol.minimum_number_matches,\n",
    "    (\n",
    "        geomean(\n",
    "            results_no_infcol[[x for x in results_no_infcol if x[0] == \"compression\"]].T\n",
    "        )\n",
    "        - 1\n",
    "    )\n",
    "    * 100,\n",
    "    color=\"red\",\n",
    "    label=\"Compression\",\n",
    ")\n",
    "plt.xticks(sorted(set(results_no_infcol.minimum_number_matches)))\n",
    "plt.xlabel(\"Minimum number matches\")\n",
    "ax_1.set_ylabel(\"Geomean time [s]\")\n",
    "ax_2.set_ylabel(\"Geomean compression [%]\")\n",
    "ax_1.set_ylim(0, ax_1.get_ylim()[1])\n",
    "ax_2.set_ylim(0, ax_2.get_ylim()[1])\n",
    "plt.grid()\n",
    "ax_1.legend(loc=(0.7, 0.9))\n",
    "ax_2.legend(loc=(0.7, 0.8))\n",
    "plt.show()"
   ]
  }
 ],
 "metadata": {
  "kernelspec": {
   "display_name": "Python 3 (ipykernel)",
   "language": "python",
   "name": "python3"
  },
  "language_info": {
   "codemirror_mode": {
    "name": "ipython",
    "version": 3
   },
   "file_extension": ".py",
   "mimetype": "text/x-python",
   "name": "python",
   "nbconvert_exporter": "python",
   "pygments_lexer": "ipython3",
   "version": "3.11.9"
  }
 },
 "nbformat": 4,
 "nbformat_minor": 5
}
