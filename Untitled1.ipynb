{
 "cells": [
  {
   "cell_type": "code",
   "execution_count": 1,
   "id": "9b7e3813",
   "metadata": {},
   "outputs": [],
   "source": [
    "import json\n",
    "import tqdm.auto as tqdm"
   ]
  },
  {
   "cell_type": "code",
   "execution_count": 2,
   "id": "e5b2d1ef",
   "metadata": {},
   "outputs": [],
   "source": [
    "%load_ext autoreload\n",
    "%autoreload 2\n",
    "%matplotlib inline"
   ]
  },
  {
   "cell_type": "code",
   "execution_count": 3,
   "id": "902751d8",
   "metadata": {},
   "outputs": [],
   "source": [
    "import copy\n",
    "\n",
    "from imperative_stitch.parser import ParsedAST\n",
    "from imperative_stitch.compress.abstraction import Abstraction\n"
   ]
  },
  {
   "cell_type": "code",
   "execution_count": 4,
   "id": "4375d1cb",
   "metadata": {},
   "outputs": [],
   "source": [
    "with open(\"data/stitch_output_set.json\") as f:\n",
    "    x = json.load(f)"
   ]
  },
  {
   "cell_type": "code",
   "execution_count": 5,
   "id": "5292a70d",
   "metadata": {},
   "outputs": [],
   "source": [
    "from imperative_stitch.compress.run_extraction import convert_output"
   ]
  },
  {
   "cell_type": "code",
   "execution_count": 6,
   "id": "d1c526e1",
   "metadata": {},
   "outputs": [
    {
     "data": {
      "text/plain": [
       "\"Module(body=[Assign(targets=[Tuple(elts=[Name(id='x', ctx=Store()), Starred(value=Name(id='y', ctx=Store()), ctx=Store())], ctx=Store())], value=Constant(value=2))], type_ignores=[])\""
      ]
     },
     "execution_count": 6,
     "metadata": {},
     "output_type": "execute_result"
    }
   ],
   "source": [
    "import ast\n",
    "ast.dump(ast.parse(\"x, *y = 2\"))"
   ]
  },
  {
   "cell_type": "code",
   "execution_count": null,
   "id": "c55f14f9",
   "metadata": {},
   "outputs": [],
   "source": []
  },
  {
   "cell_type": "code",
   "execution_count": 45,
   "id": "b9a7e928",
   "metadata": {},
   "outputs": [
    {
     "ename": "NameError",
     "evalue": "name 'run_extract' is not defined",
     "output_type": "error",
     "traceback": [
      "\u001b[0;31m---------------------------------------------------------------------------\u001b[0m",
      "\u001b[0;31mNameError\u001b[0m                                 Traceback (most recent call last)",
      "Cell \u001b[0;32mIn[45], line 1\u001b[0m\n\u001b[0;32m----> 1\u001b[0m \u001b[43mrun_extract\u001b[49m\n",
      "\u001b[0;31mNameError\u001b[0m: name 'run_extract' is not defined"
     ]
    }
   ],
   "source": [
    "run_extract"
   ]
  },
  {
   "cell_type": "code",
   "execution_count": 44,
   "id": "134d4825",
   "metadata": {
    "scrolled": false
   },
   "outputs": [
    {
     "data": {
      "application/vnd.jupyter.widget-view+json": {
       "model_id": "420f146b6c4f4c8e9203b2a6b870d321",
       "version_major": 2,
       "version_minor": 0
      },
      "text/plain": [
       "  0%|          | 0/100 [00:00<?, ?it/s]"
      ]
     },
     "metadata": {},
     "output_type": "display_data"
    },
    {
     "name": "stdout",
     "output_type": "stream",
     "text": [
      "__sentinel__\n",
      "from collections import Counter\n",
      "import string\n",
      "import math\n",
      "import sys\n",
      "\n",
      "def _main():\n",
      "\n",
      "    def array_int():\n",
      "        return [int(i) for i in sys.stdin.readline().split()]\n",
      "\n",
      "    def vary(number_of_variables):\n",
      "        if number_of_variables == 1:\n",
      "            return int(sys.stdin.readline())\n",
      "        if number_of_variables >= 2:\n",
      "            return map(int, sys.stdin.readline().split())\n",
      "\n",
      "    def makedict(var):\n",
      "        return dict(Counter(var))\n",
      "    mod = 100000007\n",
      "    k = vary(1)\n",
      "    s = input()\n",
      "    tt = makedict(list(s))\n",
      "    ans = ''\n",
      "    for i in tt:\n",
      "        if tt[i] % k != 0:\n",
      "            __start_extract__\n",
      "            print(-1)\n",
      "            __end_extract__\n",
      "            exit()\n",
      "        else:\n",
      "            ans += i * (tt[i] // k)\n",
      "    print(ans * k)\n",
      "_main()\n",
      "__sentinel__\n",
      "def _main():\n",
      "    k = int(input())\n",
      "    s = input()\n",
      "    if not all([s.count(ch) % k == 0 for ch in set(s)]):\n",
      "        __start_extract__\n",
      "        print(-1)\n",
      "        __end_extract__\n",
      "    else:\n",
      "        l = [ch * (s.count(ch) // k) for ch in set(s)] * k\n",
      "        print(''.join(l))\n",
      "_main()\n",
      "__sentinel__\n",
      "def _main():\n",
      "    count_arr = [0 for i in range(26)]\n",
      "    ans = []\n",
      "    k = int(input())\n",
      "    s = input()\n",
      "    for i in s:\n",
      "        count_arr[ord(i) - ord('a')] += 1\n",
      "    for i in range(26):\n",
      "        if count_arr[i] % k != 0:\n",
      "            __start_extract__\n",
      "            print(-1)\n",
      "            __end_extract__\n",
      "            exit(0)\n",
      "        elif count_arr[i]:\n",
      "            ans.append(chr(ord('a') + i) * (count_arr[i] // k))\n",
      "    print(*ans * k, sep='')\n",
      "_main()\n",
      "__sentinel__\n",
      "from collections import Counter\n",
      "\n",
      "def _main():\n",
      "    k = int(input())\n",
      "    s = dict(Counter(input()))\n",
      "    (r, t) = ('', 1)\n",
      "    for i in s:\n",
      "        if s[i] % k != 0:\n",
      "            __start_extract__\n",
      "            print(-1)\n",
      "            __end_extract__\n",
      "            t = 0\n",
      "            break\n",
      "        else:\n",
      "            r += i * (s[i] // k)\n",
      "    if t:\n",
      "        print(r * k)\n",
      "_main()\n",
      "__sentinel__\n",
      "def _main():\n",
      "    \"\"\"\n",
      "Created on Tue Jan  8 16:42:20 2019\n",
      "\n",
      "@author: umang\n",
      "\"\"\"\n",
      "    k = int(input())\n",
      "    string = input()\n",
      "    freq = {i: 0 for i in 'abcdefghijklmnopqrstuvwxyz'}\n",
      "    for i in string:\n",
      "        freq[i] += 1\n",
      "    if any((i % k != 0 for i in freq.values())):\n",
      "        __start_extract__\n",
      "        print(-1)\n",
      "        __end_extract__\n",
      "    else:\n",
      "        a = ''\n",
      "        for i in freq.keys():\n",
      "            for j in range(freq[i] // k):\n",
      "                a += i\n",
      "        print(k * a)\n",
      "_main()\n",
      "__sentinel__\n",
      "def _main():\n",
      "    n = int(input())\n",
      "    s = sorted(input())\n",
      "    x = s[::n] * n\n",
      "    if sorted(x) == s:\n",
      "        print(''.join(x))\n",
      "    else:\n",
      "        __start_extract__\n",
      "        print(-1)\n",
      "        __end_extract__\n",
      "_main()\n",
      "__sentinel__\n",
      "def _main():\n",
      "    k = int(input())\n",
      "    s = input()\n",
      "    a = 'abcdefghijklmnopqrstuvwxyz'\n",
      "    n = []\n",
      "    kq = ''\n",
      "    for i in range(26):\n",
      "        n.append(s.count(a[i]))\n",
      "        if n[i] % k != 0:\n",
      "            __start_extract__\n",
      "            print(-1)\n",
      "            __end_extract__\n",
      "            exit()\n",
      "    for i in range(26):\n",
      "        n[i] = int(n[i] / k)\n",
      "        while n[i] > 0:\n",
      "            kq = kq + a[i]\n",
      "            n[i] = n[i] - 1\n",
      "    t = ''\n",
      "    for i in range(k):\n",
      "        t = t + kq\n",
      "    print(t)\n",
      "_main()\n",
      "__sentinel__\n",
      "def _main():\n",
      "\n",
      "    def kstring(s, k):\n",
      "        if len(s) % k != 0:\n",
      "            return ''\n",
      "        else:\n",
      "            from collections import Counter\n",
      "            d = dict(Counter(s))\n",
      "            ans = []\n",
      "            for letter in d:\n",
      "                count = d[letter]\n",
      "                if count % k == 0:\n",
      "                    ans.append(letter * (count // k))\n",
      "                else:\n",
      "                    return ''\n",
      "            ans = ''.join(ans)\n",
      "            ans = ans * k\n",
      "            return ans\n",
      "    k = int(input())\n",
      "    s = input()\n",
      "    a = kstring(s, k)\n",
      "    if not a:\n",
      "        __start_extract__\n",
      "        print(-1)\n",
      "        __end_extract__\n",
      "    else:\n",
      "        print(a)\n",
      "_main()\n"
     ]
    }
   ],
   "source": [
    "from imperative_stitch.analyze_program.extract.errors import NotApplicable\n",
    "for el in tqdm.tqdm(x):\n",
    "    el = x[32]\n",
    "    if el[\"abstractions\"][0][\"choice_arity\"] != 0:\n",
    "        continue\n",
    "    try:\n",
    "        abstraction, rewritten = convert_output(el[\"abstractions\"], el[\"rewritten\"])\n",
    "    except NotApplicable as e:\n",
    "        print(type(e))\n",
    "    break"
   ]
  },
  {
   "cell_type": "code",
   "execution_count": 37,
   "id": "a84210a2",
   "metadata": {},
   "outputs": [
    {
     "name": "stdout",
     "output_type": "stream",
     "text": [
      "def __f0():\n",
      "    print(-1)\n"
     ]
    }
   ],
   "source": [
    "print(abstraction)"
   ]
  },
  {
   "cell_type": "code",
   "execution_count": 40,
   "id": "428408bf",
   "metadata": {},
   "outputs": [
    {
     "data": {
      "text/plain": [
       "'(Module (/seq (Expr (Constant s-WzEwLCA2NywgMTE0LCAxMDEsIDk3LCAxMTYsIDEwMSwgMTAwLCAzMiwgMTExLCAxMTAsIDMyLCA4NCwgMTE3LCAxMDEsIDMyLCA3NCwgOTcsIDExMCwgMzIsIDMyLCA1NiwgMzIsIDQ5LCA1NCwgNTgsIDUyLCA1MCwgNTgsIDUwLCA0OCwgMzIsIDUwLCA0OCwgNDksIDU3LCAxMCwgMTAsIDY0LCA5NywgMTE3LCAxMTYsIDEwNCwgMTExLCAxMTQsIDU4LCAzMiwgMTE3LCAxMDksIDk3LCAxMTAsIDEwMywgMTBd None)) (Assign (list (Name &k:0 Store)) (Call (Name g_int Load) (list (_starred_content (Call (Name g_input Load) nil nil))) nil) None) (Assign (list (Name &string:0 Store)) (Call (Name g_input Load) nil nil) None) (Assign (list (Name &freq:0 Store)) (DictComp (Name &i:1 Load) (Constant i0 None) (list (comprehension (Name &i:1 Store) (Constant s_abcdefghijklmnopqrstuvwxyz None) nil i0))) None) (For (Name &i:0 Store) (Name &string:0 Load) (/seq (AugAssign (Subscript (Name &freq:0 Load) (_slice_content (Name &i:0 Load)) Store) Add (Constant i1 None))) (/seq) None) (If (Call (Name g_any Load) (list (_starred_content (GeneratorExp (Compare (BinOp (Name &i:2 Load) Mod (Name &k:0 Load)) (list NotEq) (list (Constant i0 None))) (list (comprehension (Name &i:2 Store) (Call (Attribute (Name &freq:0 Load) s_values Load) nil nil) nil i0))))) nil) (/seq (fn_1)) (/seq (Assign (list (Name &a:0 Store)) (Constant s_ None) None) (For (Name &i:0 Store) (Call (Attribute (Name &freq:0 Load) s_keys Load) nil nil) (/seq (For (Name &j:0 Store) (Call (Name g_range Load) (list (_starred_content (BinOp (Subscript (Name &freq:0 Load) (_slice_content (Name &i:0 Load)) Load) FloorDiv (Name &k:0 Load)))) nil) (/seq (AugAssign (Name &a:0 Store) Add (Name &i:0 Load))) (/seq) None)) (/seq) None) (Expr (Call (Name g_print Load) (list (_starred_content (BinOp (Name &k:0 Load) Mult (Name &a:0 Load)))) nil))))) nil)'"
      ]
     },
     "execution_count": 40,
     "metadata": {},
     "output_type": "execute_result"
    }
   ],
   "source": [
    "el[\"rewritten\"][4]"
   ]
  },
  {
   "cell_type": "code",
   "execution_count": 43,
   "id": "2b2b633a",
   "metadata": {},
   "outputs": [
    {
     "data": {
      "text/plain": [
       "'\"\"\"\\nCreated on Tue Jan  8 16:42:20 2019\\n\\n@author: umang\\n\"\"\"\\nk = int(input())\\nstring = input()\\nfreq = {i: 0 for i in \\'abcdefghijklmnopqrstuvwxyz\\'}\\nfor i in string:\\n    freq[i] += 1\\nif any((i % k != 0 for i in freq.values())):\\n    return __f0()\\nelse:\\n    a = \\'\\'\\n    for i in freq.keys():\\n        for j in range(freq[i] // k):\\n            a += i\\n    print(k * a)'"
      ]
     },
     "execution_count": 43,
     "metadata": {},
     "output_type": "execute_result"
    }
   ],
   "source": [
    "rewritten[4]"
   ]
  },
  {
   "cell_type": "code",
   "execution_count": 112,
   "id": "41b42f4a",
   "metadata": {},
   "outputs": [
    {
     "data": {
      "text/plain": [
       "'(Module (/seq (Assign (list (Name &n:0 Store)) (Call (Name g_int Load) (list (Call (Name g_input Load) nil nil)) nil) None) (Assign (list (Name &s:0 Store)) (Call (Name g_input Load) nil nil) None) (Assign (list (Name &z:0 Store)) (Constant i0 None) None) (Assign (list (Name &o:0 Store)) (Constant i0 None) None) (For (Name &i:0 Store) (Name &s:0 Load) (/seq (If (Compare (Name &i:0 Load) (list Eq) (list (Constant s_0 None))) (/seq (AugAssign (Name &z:0 Store) Sub (UnaryOp USub (Constant i1 None)))) (/seq (AugAssign (Name &o:0 Store) Sub (UnaryOp USub (Constant i1 None)))))) (/seq) None) (fn_1 (BinOp (Name &n:0 Load) Sub (Constant i1 None)) (Slice None (BinOp (Name &n:0 Load) Sub (Constant i1 None)) None) (Name &o:0 Load) (Name &z:0 Load) &s:0)) nil)'"
      ]
     },
     "execution_count": 112,
     "metadata": {},
     "output_type": "execute_result"
    }
   ],
   "source": [
    "el[\"rewritten\"][5]"
   ]
  },
  {
   "cell_type": "code",
   "execution_count": 108,
   "id": "63a4499c",
   "metadata": {},
   "outputs": [],
   "source": [
    "[abstr_dict] = el[\"abstractions\"]\n",
    "abstr_dict = {\n",
    "    **abstr_dict,\n",
    "    \"body\": ParsedAST.parse_s_expression(abstr_dict[\"body\"]),\n",
    "}\n",
    "abstr = dict(fn_1=Abstraction(name=\"fn_1\", **abstr_dict))"
   ]
  },
  {
   "cell_type": "code",
   "execution_count": 113,
   "id": "3e6dbf7b",
   "metadata": {},
   "outputs": [
    {
     "name": "stdout",
     "output_type": "stream",
     "text": [
      "n = int(input())\n",
      "s = input()\n",
      "z = 0\n",
      "o = 0\n",
      "for i in s:\n",
      "    if i == '0':\n",
      "        z -= -1\n",
      "    else:\n",
      "        o -= -1\n",
      "fn_1(__code__('n - 1'), __code__(':n - 1'), __code__('o'), __code__('z'), __ref__(s))\n"
     ]
    }
   ],
   "source": [
    "print(ParsedAST.parse_s_expression(el[\"rewritten\"][5]).abstraction_calls_to_stubs(abstr).to_python())"
   ]
  },
  {
   "cell_type": "code",
   "execution_count": 99,
   "id": "dc955ad0",
   "metadata": {},
   "outputs": [
    {
     "name": "stdout",
     "output_type": "stream",
     "text": [
      "{5: \"n = int(input())\\ns = input()\\nz = 0\\no = 0\\nfor i in s:\\n    if i == '0':\\n        z -= -1\\n    else:\\n        o -= -1\\n__start_extract__\\nif {__metavariable__, __m3, z} != {__metavariable__, __m2, o}:\\n    print(1)\\n    print(s)\\nelse:\\n    print(2)\\n    print(s[{__metavariable__, __m1, :n - 1}], s[{__metavariable__, __m0, n - 1}])\\n__end_extract__\", 6: \"n = int(input())\\na = input()\\n__start_extract__\\nif {__metavariable__, __m3, a.count('1')} != {__metavariable__, __m2, a.count('0')}:\\n    print(1)\\n    print(a)\\nelse:\\n    print(2)\\n    print(a[{__metavariable__, __m1, :n - 1}], a[{__metavariable__, __m0, n - 1}])\\n__end_extract__\", 7: \"n = int(input())\\ngstr = str(input())\\nif len(gstr) % 2 != 0:\\n    print(1)\\n    print(gstr)\\nelse:\\n    __start_extract__\\n    if {__metavariable__, __m3, gstr.count('1')} != {__metavariable__, __m2, gstr.count('0')}:\\n        print(1)\\n        print(gstr)\\n    else:\\n        print(2)\\n        print(gstr[{__metavariable__, __m1, 0:-1}], gstr[{__metavariable__, __m0, -1}])\\n    __end_extract__\", 8: \"n = int(input())\\ns = input()\\nzero = s.count('0')\\none = n - zero\\n__start_extract__\\nif {__metavariable__, __m3, zero} != {__metavariable__, __m2, one}:\\n    print(1)\\n    print(s)\\nelse:\\n    print(2)\\n    print(s[{__metavariable__, __m1, 0}], s[{__metavariable__, __m0, 1:}])\\n__end_extract__\"}\n"
     ]
    },
    {
     "ename": "SyntaxError",
     "evalue": "invalid syntax (<unknown>, line 16)",
     "output_type": "error",
     "traceback": [
      "Traceback \u001b[0;36m(most recent call last)\u001b[0m:\n",
      "\u001b[0m  File \u001b[1;32m~/anaconda3/envs/py39/lib/python3.9/site-packages/IPython/core/interactiveshell.py:3433\u001b[0m in \u001b[1;35mrun_code\u001b[0m\n    exec(code_obj, self.user_global_ns, self.user_ns)\u001b[0m\n",
      "\u001b[0m  Cell \u001b[1;32mIn[99], line 1\u001b[0m\n    convert_output(el[\"abstractions\"], el[\"rewritten\"])\u001b[0m\n",
      "\u001b[0m  File \u001b[1;32m~/mit/pystitch/imperative_stitch/compress/run_extraction.py:55\u001b[0m in \u001b[1;35mconvert_output\u001b[0m\n    extracted, abstraction = run_extraction(elements)\u001b[0m\n",
      "\u001b[0m  File \u001b[1;32m~/mit/pystitch/imperative_stitch/compress/run_extraction.py:63\u001b[0m in \u001b[1;35mrun_extraction\u001b[0m\n    all_codes = \"\\n\".join(add_sentinel(wrap(elements[k])) for k in keys)\u001b[0m\n",
      "\u001b[0m  File \u001b[1;32m~/mit/pystitch/imperative_stitch/compress/run_extraction.py:63\u001b[0m in \u001b[1;35m<genexpr>\u001b[0m\n    all_codes = \"\\n\".join(add_sentinel(wrap(elements[k])) for k in keys)\u001b[0m\n",
      "\u001b[0m  File \u001b[1;32m~/mit/pystitch/imperative_stitch/utils/wrap.py:45\u001b[0m in \u001b[1;35mwrap\u001b[0m\n    result = ast.unparse(ast.fix_missing_locations(wrap_ast(ast.parse(code), fn_name)))\u001b[0m\n",
      "\u001b[0;36m  File \u001b[0;32m~/anaconda3/envs/py39/lib/python3.9/ast.py:50\u001b[0;36m in \u001b[0;35mparse\u001b[0;36m\n\u001b[0;31m    return compile(source, filename, mode, flags,\u001b[0;36m\n",
      "\u001b[0;36m  File \u001b[0;32m<unknown>:16\u001b[0;36m\u001b[0m\n\u001b[0;31m    print(s[{__metavariable__, __m1, :n - 1}], s[{__metavariable__, __m0, n - 1}])\u001b[0m\n\u001b[0m                                     ^\u001b[0m\n\u001b[0;31mSyntaxError\u001b[0m\u001b[0;31m:\u001b[0m invalid syntax\n"
     ]
    }
   ],
   "source": [
    "convert_output(el[\"abstractions\"], el[\"rewritten\"])"
   ]
  },
  {
   "cell_type": "code",
   "execution_count": 65,
   "id": "34e5179f",
   "metadata": {
    "scrolled": false
   },
   "outputs": [
    {
     "name": "stdout",
     "output_type": "stream",
     "text": [
      "def __f0():\n",
      "    __0 = int(input())\n",
      "    __1 = list(map(int, input().split()))\n",
      "    return (__0, __1)\n"
     ]
    }
   ],
   "source": [
    "print(abstraction)"
   ]
  },
  {
   "cell_type": "code",
   "execution_count": 66,
   "id": "a2999274",
   "metadata": {
    "scrolled": true
   },
   "outputs": [
    {
     "name": "stdout",
     "output_type": "stream",
     "text": [
      "t = int(input())\n",
      "for z in range(t):\n",
      "    (n, arr) = __f0()\n",
      "    min = arr[0] + arr[1]\n",
      "    pos = True\n",
      "    for i in range(2, n):\n",
      "        if arr[i] >= min:\n",
      "            pos = False\n",
      "            posf = i\n",
      "            break\n",
      "    if pos:\n",
      "        print('-1')\n",
      "    else:\n",
      "        print('1 2', posf + 1)\n",
      "********************************************************************************\n",
      "t = int(input())\n",
      "for _ in range(t):\n",
      "    (_, a) = __f0()\n",
      "    f = 0\n",
      "    for i in range(2, len(a)):\n",
      "        if a[0] + a[1] <= a[i]:\n",
      "            f = 1\n",
      "            print('1 2', i + 1)\n",
      "            break\n",
      "    if f == 0:\n",
      "        print(-1)\n",
      "********************************************************************************\n",
      "for t in range(int(input())):\n",
      "    (n, a) = __f0()\n",
      "    c = 0\n",
      "    for i in range(2, n):\n",
      "        l = i\n",
      "        r = n - 1\n",
      "        if a[0] + a[1] <= a[l]:\n",
      "            c += 1\n",
      "            print(1, 2, i + 1)\n",
      "            break\n",
      "    if c == 0:\n",
      "        print(-1)\n",
      "********************************************************************************\n",
      "import sys\n",
      "inp = sys.stdin.buffer.read().split(b'\\n')\n",
      "_ii = -1\n",
      "_DEBUG = 0\n",
      "\n",
      "def debug(*args):\n",
      "    if _DEBUG:\n",
      "        import inspect\n",
      "        frame = inspect.currentframe()\n",
      "        frame = inspect.getouterframes(frame)[1]\n",
      "        string = inspect.getframeinfo(frame[0]).code_context[0].strip()\n",
      "        arns = string[string.find('(') + 1:-1].split(',')\n",
      "        print('    #debug:', end=' ')\n",
      "        for (i, j) in zip(arns, args):\n",
      "            print(i, ' = ', j, end=', ')\n",
      "        print()\n",
      "\n",
      "def rdln():\n",
      "    global _ii\n",
      "    _ii += 1\n",
      "    return inp[_ii]\n",
      "inin = lambda : int(rdln())\n",
      "inar = lambda : [int(x) for x in rdln().split()]\n",
      "inst = lambda : rdln().strip().decode()\n",
      "_T_ = inin()\n",
      "for _t_ in range(_T_):\n",
      "    n = inin()\n",
      "    a = inar()\n",
      "    debug(n, a)\n",
      "    if a[0] + a[1] > a[n - 1]:\n",
      "        print(-1)\n",
      "    else:\n",
      "        print(1, 2, n)\n",
      "********************************************************************************\n",
      "import sys\n",
      "input = sys.stdin.buffer.readline\n",
      "t = int(input())\n",
      "for _ in range(t):\n",
      "    res = 0\n",
      "    n = int(input())\n",
      "    A = list(map(int, input().split()))\n",
      "    flag = 0\n",
      "    (a, b, c) = (A[0], A[1], A[-1])\n",
      "    if c >= a + b:\n",
      "        print(1, 2, n)\n",
      "        flag = 1\n",
      "    if not flag:\n",
      "        (a, b, c) = (A[0], A[-2], A[-1])\n",
      "        if c - b >= a:\n",
      "            print(1, n - 2, n - 1)\n",
      "            flag = 1\n",
      "    if not flag:\n",
      "        print(-1)\n",
      "********************************************************************************\n",
      "t = int(input())\n",
      "while t > 0:\n",
      "    (n, a) = __f0()\n",
      "    i = 0\n",
      "    k = n - 1\n",
      "    j = -1\n",
      "    for it in range(1, n - 1):\n",
      "        if a[i] + a[it] <= a[k]:\n",
      "            j = it\n",
      "            break\n",
      "    if j == -1:\n",
      "        print(-1)\n",
      "    else:\n",
      "        print(i + 1, j + 1, k + 1)\n",
      "    t -= 1\n",
      "********************************************************************************\n",
      "t = int(input())\n",
      "for _ in range(t):\n",
      "    (_, array) = __f0()\n",
      "    if array[0] + array[1] <= array[-1]:\n",
      "        print(1, 2, len(array))\n",
      "    else:\n",
      "        print(-1)\n",
      "********************************************************************************\n",
      "for _ in range(int(input())):\n",
      "    input()\n",
      "    a = list(map(int, input().split()))\n",
      "    if a[0] + a[1] <= a[-1]:\n",
      "        print(1, 2, len(a))\n",
      "    else:\n",
      "        print(-1)\n",
      "********************************************************************************\n",
      "t = int(input())\n",
      "for _ in range(t):\n",
      "    (_, a) = __f0()\n",
      "    if a[0] + a[1] > a[-1]:\n",
      "        print(-1)\n",
      "    else:\n",
      "        print(1, 2, len(a))\n",
      "********************************************************************************\n",
      "t = int(input())\n",
      "for i in range(t):\n",
      "    n = int(input())\n",
      "    x = [int(x) for x in input().split()]\n",
      "    if x[0] + x[1] <= x[n - 1]:\n",
      "        print(1, 2, n)\n",
      "    else:\n",
      "        print(-1)\n",
      "********************************************************************************\n"
     ]
    }
   ],
   "source": [
    "for x in rewritten:\n",
    "    print(x)\n",
    "    print(\"*\" * 80)"
   ]
  },
  {
   "cell_type": "code",
   "execution_count": 152,
   "id": "bbd5448e",
   "metadata": {},
   "outputs": [],
   "source": [
    "from imperative_stitch.analyze_program.antiunify.extract_at_multiple_sites import (\n",
    "    antiunify_all_metavariables_across_extractions,\n",
    ")\n",
    "from imperative_stitch.analyze_program.extract.extract import do_extract\n",
    "from imperative_stitch.analyze_program.extract.extract_configuration import (\n",
    "    ExtractConfiguration,\n",
    ")\n",
    "from imperative_stitch.data.parse_extract import parse_extract_pragma\n",
    "from imperative_stitch.utils.ast_utils import (\n",
    "    ReplaceNodes,\n",
    "    ast_nodes_in_order,\n",
    "    field_is_body,\n",
    ")\n",
    "from tests.extract_test import GenericExtractTest\n",
    "from tests.rewrite_test import GenericRewriteRealisticTest\n",
    "from tests.utils import canonicalize, expand_with_slow_tests, small_set_examples\n",
    "from imperative_stitch.compress.run_extraction import run_extraction\n",
    "\n",
    "import ast"
   ]
  },
  {
   "cell_type": "code",
   "execution_count": 157,
   "id": "5ca66b6d",
   "metadata": {},
   "outputs": [],
   "source": [
    "result, post_extracted = run_extraction(elements)"
   ]
  },
  {
   "cell_type": "code",
   "execution_count": 159,
   "id": "987c1a38",
   "metadata": {},
   "outputs": [
    {
     "data": {
      "text/plain": [
       "{0: '(n, k) = __f0(lambda : input())\\nl = n - k\\nif k <= l // 10:\\n    print(k)\\nelse:\\n    while k > l // 10:\\n        k -= 1\\n        l += 1\\n    print(min(k, l // 10))',\n",
       " 1: '(n, p) = __f0(lambda : str(input()))\\nq = n // 11\\nf = min(p, q)\\nprint(f)',\n",
       " 2: '(a, x) = __f0(lambda : input())\\nprint(min(a // 11, x))',\n",
       " 6: '(n, k) = __f0(lambda : list(input()))\\ns = 0\\nwhile k > 0 and n > 10:\\n    s += 1\\n    n -= 11\\n    k -= 1\\nprint(s)',\n",
       " 7: '(n, a) = __f0(lambda : input())\\nb = n // 11\\nprint(min(a, b))',\n",
       " 8: '(n, c) = __f0(lambda : input())\\nx = n // 11\\nif c >= x:\\n    print(n // 11)\\nelif c < x:\\n    print(c)\\nelse:\\n    print(0)'}"
      ]
     },
     "execution_count": 159,
     "metadata": {},
     "output_type": "execute_result"
    }
   ],
   "source": [
    "result"
   ]
  },
  {
   "cell_type": "code",
   "execution_count": 160,
   "id": "3c4fb0ec",
   "metadata": {},
   "outputs": [
    {
     "name": "stdout",
     "output_type": "stream",
     "text": [
      "(n, k) = __f0(lambda : input())\n",
      "l = n - k\n",
      "if k <= l // 10:\n",
      "    print(k)\n",
      "else:\n",
      "    while k > l // 10:\n",
      "        k -= 1\n",
      "        l += 1\n",
      "    print(min(k, l // 10))\n"
     ]
    }
   ],
   "source": [
    "print(result[0])"
   ]
  },
  {
   "cell_type": "code",
   "execution_count": 161,
   "id": "dd6ef5b5",
   "metadata": {},
   "outputs": [
    {
     "name": "stdout",
     "output_type": "stream",
     "text": [
      "def __f0(__m0):\n",
      "    __0 = int(input())\n",
      "    __1 = __m0()\n",
      "    __2 = __1.count('8')\n",
      "    return (__0, __2)\n"
     ]
    }
   ],
   "source": [
    "print(post_extracted)"
   ]
  },
  {
   "cell_type": "code",
   "execution_count": 128,
   "id": "b80d51a8",
   "metadata": {},
   "outputs": [
    {
     "name": "stdout",
     "output_type": "stream",
     "text": [
      "def _main():\n",
      "    (n, k) = __f0(lambda : input())\n",
      "    l = n - k\n",
      "    if k <= l // 10:\n",
      "        print(k)\n",
      "    else:\n",
      "        while k > l // 10:\n",
      "            k -= 1\n",
      "            l += 1\n",
      "        print(min(k, l // 10))\n",
      "_main()\n",
      "\n",
      "def _main():\n",
      "    (n, p) = __f0(lambda : str(input()))\n",
      "    q = n // 11\n",
      "    f = min(p, q)\n",
      "    print(f)\n",
      "_main()\n",
      "\n",
      "def _main():\n",
      "    (a, x) = __f0(lambda : input())\n",
      "    print(min(a // 11, x))\n",
      "_main()\n",
      "\n",
      "def _main():\n",
      "    (n, k) = __f0(lambda : list(input()))\n",
      "    s = 0\n",
      "    while k > 0 and n > 10:\n",
      "        s += 1\n",
      "        n -= 11\n",
      "        k -= 1\n",
      "    print(s)\n",
      "_main()\n",
      "\n",
      "def _main():\n",
      "    (n, a) = __f0(lambda : input())\n",
      "    b = n // 11\n",
      "    print(min(a, b))\n",
      "_main()\n",
      "\n",
      "def _main():\n",
      "    (n, c) = __f0(lambda : input())\n",
      "    x = n // 11\n",
      "    if c >= x:\n",
      "        print(n // 11)\n",
      "    elif c < x:\n",
      "        print(c)\n",
      "    else:\n",
      "        print(0)\n",
      "_main()\n"
     ]
    }
   ],
   "source": [
    "print(result)"
   ]
  },
  {
   "cell_type": "code",
   "execution_count": 17,
   "id": "ae9db243",
   "metadata": {},
   "outputs": [],
   "source": [
    "code_1 = \"\"\"\n",
    "t = int(input())\n",
    "for z in range(t):\n",
    "    n = int(input())\n",
    "    arr = list(map(int, input().split()))\n",
    "    min = arr[0] + arr[1]\n",
    "    pos = True\n",
    "    for i in range(2, n):\n",
    "        if arr[i] >= min:\n",
    "            pos = False\n",
    "            posf = i\n",
    "            break\n",
    "    if pos:\n",
    "        print('-1')\n",
    "    else:\n",
    "        print('1 2', posf + 1)\n",
    "\"\"\"\n",
    "\n",
    "code_2 = \"\"\"\n",
    "def __f0():\n",
    "    __0 = int(input())\n",
    "    __1 = list(map(int, input().split()))\n",
    "    return (__0, __1)\n",
    "t = int(input())\n",
    "for z in range(t):\n",
    "    (n, arr) = __f0()\n",
    "    min = arr[0] + arr[1]\n",
    "    pos = True\n",
    "    for i in range(2, n):\n",
    "        if arr[i] >= min:\n",
    "            pos = False\n",
    "            posf = i\n",
    "            break\n",
    "    if pos:\n",
    "        print('-1')\n",
    "    else:\n",
    "        print('1 2', posf + 1)\n",
    "\"\"\"\n",
    "\n",
    "inp = '3\\n7\\n4 6 11 11 15 18 20\\n4\\n10 10 10 11\\n3\\n1 1 1000000000\\n'"
   ]
  },
  {
   "cell_type": "code",
   "execution_count": 18,
   "id": "064b2da7",
   "metadata": {},
   "outputs": [],
   "source": [
    "from imperative_stitch.utils.run_code import normalize_output, run_python\n"
   ]
  },
  {
   "cell_type": "code",
   "execution_count": 19,
   "id": "ce9da508",
   "metadata": {},
   "outputs": [
    {
     "data": {
      "text/plain": [
       "'1 2 3\\n-1\\n1 2 3\\n'"
      ]
     },
     "execution_count": 19,
     "metadata": {},
     "output_type": "execute_result"
    }
   ],
   "source": [
    "run_python.function(code_1, inp)"
   ]
  },
  {
   "cell_type": "code",
   "execution_count": 21,
   "id": "91851f25",
   "metadata": {},
   "outputs": [
    {
     "data": {
      "text/plain": [
       "'1 2 3\\n-1\\n1 2 3\\n'"
      ]
     },
     "execution_count": 21,
     "metadata": {},
     "output_type": "execute_result"
    }
   ],
   "source": [
    "run_python.function(code_2, inp)"
   ]
  },
  {
   "cell_type": "code",
   "execution_count": null,
   "id": "abfee9a6",
   "metadata": {},
   "outputs": [],
   "source": [
    "FAILED tests/from_stitch_test.py::RealDataTest::test_realistic_same_behavior_04 - AssertionError: error\n",
    "FAILED tests/from_stitch_test.py::RealDataTest::test_realistic_same_behavior_06 - AssertionError: error\n",
    "FAILED tests/from_stitch_test.py::RealDataTest::test_realistic_same_behavior_09 - imperative_stitch.analyze_program.extract.errors.ClosureOverVariableModifiedInExtractedCode\n",
    "FAILED tests/from_stitch_test.py::RealDataTest::test_realistic_same_behavior_10 - AssertionError: error"
   ]
  }
 ],
 "metadata": {
  "kernelspec": {
   "display_name": "Python 3 (ipykernel)",
   "language": "python",
   "name": "python3"
  },
  "language_info": {
   "codemirror_mode": {
    "name": "ipython",
    "version": 3
   },
   "file_extension": ".py",
   "mimetype": "text/x-python",
   "name": "python",
   "nbconvert_exporter": "python",
   "pygments_lexer": "ipython3",
   "version": "3.9.7"
  }
 },
 "nbformat": 4,
 "nbformat_minor": 5
}
